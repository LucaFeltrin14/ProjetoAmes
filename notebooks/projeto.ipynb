{
 "cells": [
  {
   "cell_type": "markdown",
   "metadata": {},
   "source": [
    "# Projeto: Previsão de Preços de Imóveis em Ames"
   ]
  },
  {
   "cell_type": "markdown",
   "metadata": {},
   "source": [
    "### Importação das Bibliotecas Necessárias"
   ]
  },
  {
   "cell_type": "code",
   "execution_count": 161,
   "metadata": {},
   "outputs": [],
   "source": [
    "# Importação das bibliotecas essenciais\n",
    "import pickle\n",
    "import pandas as pd\n",
    "from pathlib import Path\n",
    "\n",
    "# Importação das bibliotecas de pré-processamento e modelagem\n",
    "from sklearn.model_selection import train_test_split, GridSearchCV\n",
    "from sklearn.pipeline import Pipeline\n",
    "from sklearn.compose import ColumnTransformer\n",
    "from sklearn.impute import SimpleImputer\n",
    "from sklearn.preprocessing import OneHotEncoder, StandardScaler\n",
    "\n",
    "# Importação dos modelos de regressão\n",
    "from sklearn.linear_model import LinearRegression, Ridge, Lasso\n",
    "from sklearn.ensemble import RandomForestRegressor\n",
    "\n",
    "# Importação das métricas de avaliação\n",
    "from sklearn.metrics import mean_squared_error, r2_score\n",
    "\n",
    "# Importação para visualização dos resultados\n",
    "import matplotlib.pyplot as plt\n",
    "import seaborn as sns"
   ]
  },
  {
   "cell_type": "markdown",
   "metadata": {},
   "source": [
    "### Carregamento dos Dados Processados"
   ]
  },
  {
   "cell_type": "code",
   "execution_count": 162,
   "metadata": {},
   "outputs": [],
   "source": [
    "# Definição do caminho para o arquivo processado\n",
    "DATA_DIR = Path.cwd().parent / 'data'\n",
    "processed_file_path = DATA_DIR / 'processed' / 'ames_clean.pkl'\n",
    "\n",
    "# Carregamento dos dados processados\n",
    "with open(processed_file_path, 'rb') as file:\n",
    "    data = pickle.load(file)"
   ]
  },
  {
   "cell_type": "markdown",
   "metadata": {},
   "source": [
    "### Divisão dos Dados em Conjuntos de Treinamento e Teste"
   ]
  },
  {
   "cell_type": "code",
   "execution_count": 163,
   "metadata": {},
   "outputs": [],
   "source": [
    "# Definição da variável alvo\n",
    "y = data['SalePrice']\n",
    "\n",
    "# Definição das variáveis preditoras\n",
    "X = data.drop('SalePrice', axis=1)\n",
    "\n",
    "# Divisão dos dados em treinamento e teste (80% treino, 20% teste)\n",
    "X_train, X_test, y_train, y_test = train_test_split(\n",
    "    X, y, test_size=0.2, random_state=42\n",
    ")"
   ]
  },
  {
   "cell_type": "markdown",
   "metadata": {},
   "source": [
    "### Identificação das Colunas Categóricas e Numéricas"
   ]
  },
  {
   "cell_type": "code",
   "execution_count": 164,
   "metadata": {},
   "outputs": [
    {
     "name": "stdout",
     "output_type": "stream",
     "text": [
      "Colunas Categóricas: ['MS.SubClass', 'MS.Zoning', 'Lot.Shape', 'Land.Contour', 'Lot.Config', 'Land.Slope', 'Neighborhood', 'Bldg.Type', 'House.Style', 'Overall.Qual', 'Overall.Cond', 'Roof.Style', 'Mas.Vnr.Type', 'Exter.Qual', 'Exter.Cond', 'Foundation', 'Bsmt.Qual', 'Bsmt.Cond', 'Bsmt.Exposure', 'BsmtFin.Type.1', 'BsmtFin.Type.2', 'Heating.QC', 'Central.Air', 'Electrical', 'Kitchen.Qual', 'Functional', 'Garage.Type', 'Garage.Finish', 'Paved.Drive', 'Fence', 'Sale.Type', 'Sale.Condition', 'Condition', 'Exterior']\n",
      "Colunas Numéricas: ['Lot.Frontage', 'Lot.Area', 'Mas.Vnr.Area', 'BsmtFin.SF.1', 'BsmtFin.SF.2', 'Bsmt.Unf.SF', 'Total.Bsmt.SF', 'X1st.Flr.SF', 'X2nd.Flr.SF', 'Low.Qual.Fin.SF', 'Gr.Liv.Area', 'Bsmt.Full.Bath', 'Bsmt.Half.Bath', 'Full.Bath', 'Half.Bath', 'Bedroom.AbvGr', 'Kitchen.AbvGr', 'TotRms.AbvGrd', 'Fireplaces', 'Garage.Cars', 'Garage.Area', 'Wood.Deck.SF', 'Open.Porch.SF', 'Enclosed.Porch', 'X3Ssn.Porch', 'Screen.Porch', 'Pool.Area', 'Misc.Val', 'Mo.Sold', 'Yr.Sold', 'Garage.Age', 'Remod.Age', 'House.Age']\n"
     ]
    }
   ],
   "source": [
    "# Identificação das colunas categóricas e numéricas\n",
    "categorical_cols = X.select_dtypes(include=['object', 'category']).columns.tolist()\n",
    "numerical_cols = X.select_dtypes(include=['int64', 'float64']).columns.tolist()\n",
    "\n",
    "print(f\"Colunas Categóricas: {categorical_cols}\")\n",
    "print(f\"Colunas Numéricas: {numerical_cols}\")"
   ]
  },
  {
   "cell_type": "markdown",
   "metadata": {},
   "source": [
    "### Conversão das Colunas Categóricas para Strings"
   ]
  },
  {
   "cell_type": "code",
   "execution_count": 165,
   "metadata": {},
   "outputs": [
    {
     "name": "stdout",
     "output_type": "stream",
     "text": [
      "MS.SubClass       object\n",
      "MS.Zoning         object\n",
      "Lot.Shape         object\n",
      "Land.Contour      object\n",
      "Lot.Config        object\n",
      "Land.Slope        object\n",
      "Neighborhood      object\n",
      "Bldg.Type         object\n",
      "House.Style       object\n",
      "Overall.Qual      object\n",
      "Overall.Cond      object\n",
      "Roof.Style        object\n",
      "Mas.Vnr.Type      object\n",
      "Exter.Qual        object\n",
      "Exter.Cond        object\n",
      "Foundation        object\n",
      "Bsmt.Qual         object\n",
      "Bsmt.Cond         object\n",
      "Bsmt.Exposure     object\n",
      "BsmtFin.Type.1    object\n",
      "BsmtFin.Type.2    object\n",
      "Heating.QC        object\n",
      "Central.Air       object\n",
      "Electrical        object\n",
      "Kitchen.Qual      object\n",
      "Functional        object\n",
      "Garage.Type       object\n",
      "Garage.Finish     object\n",
      "Paved.Drive       object\n",
      "Fence             object\n",
      "Sale.Type         object\n",
      "Sale.Condition    object\n",
      "Condition         object\n",
      "Exterior          object\n",
      "dtype: object\n",
      "MS.SubClass       object\n",
      "MS.Zoning         object\n",
      "Lot.Shape         object\n",
      "Land.Contour      object\n",
      "Lot.Config        object\n",
      "Land.Slope        object\n",
      "Neighborhood      object\n",
      "Bldg.Type         object\n",
      "House.Style       object\n",
      "Overall.Qual      object\n",
      "Overall.Cond      object\n",
      "Roof.Style        object\n",
      "Mas.Vnr.Type      object\n",
      "Exter.Qual        object\n",
      "Exter.Cond        object\n",
      "Foundation        object\n",
      "Bsmt.Qual         object\n",
      "Bsmt.Cond         object\n",
      "Bsmt.Exposure     object\n",
      "BsmtFin.Type.1    object\n",
      "BsmtFin.Type.2    object\n",
      "Heating.QC        object\n",
      "Central.Air       object\n",
      "Electrical        object\n",
      "Kitchen.Qual      object\n",
      "Functional        object\n",
      "Garage.Type       object\n",
      "Garage.Finish     object\n",
      "Paved.Drive       object\n",
      "Fence             object\n",
      "Sale.Type         object\n",
      "Sale.Condition    object\n",
      "Condition         object\n",
      "Exterior          object\n",
      "dtype: object\n"
     ]
    }
   ],
   "source": [
    "# Converter todas as colunas categóricas para string para evitar erros no encoder\n",
    "X_train[categorical_cols] = X_train[categorical_cols].astype(str)\n",
    "X_test[categorical_cols] = X_test[categorical_cols].astype(str)\n",
    "\n",
    "# Verificação para garantir que a conversão foi bem-sucedida\n",
    "print(X_train[categorical_cols].dtypes)\n",
    "print(X_test[categorical_cols].dtypes)"
   ]
  },
  {
   "cell_type": "markdown",
   "metadata": {},
   "source": []
  },
  {
   "cell_type": "code",
   "execution_count": 166,
   "metadata": {},
   "outputs": [],
   "source": [
    "def mean_absolute_percentage_error_custom(y_true, y_pred):\n",
    "    \"\"\"Calcula o Erro Percentual Absoluto Médio (MAPE).\n",
    "    \n",
    "    Args:\n",
    "        y_true (array-like): Valores reais.\n",
    "        y_pred (array-like): Valores previstos.\n",
    "    \n",
    "    Returns:\n",
    "        float: MAPE em porcentagem.\n",
    "    \"\"\"\n",
    "    y_true, y_pred = pd.Series(y_true), pd.Series(y_pred)\n",
    "    # Evitar divisão por zero substituindo zeros por um pequeno valor\n",
    "    y_true = y_true.replace(0, 1e-10)\n",
    "    return (abs((y_true - y_pred) / y_true).mean()) * 100\n",
    "\n",
    "def root_mean_squared_error_custom(y_true, y_pred):\n",
    "    \"\"\"Calcula o Erro Quadrático Médio Raiz (RMSE).\n",
    "    \n",
    "    Args:\n",
    "        y_true (array-like): Valores reais.\n",
    "        y_pred (array-like): Valores previstos.\n",
    "    \n",
    "    Returns:\n",
    "        float: RMSE.\n",
    "    \"\"\"\n",
    "    return mean_squared_error(y_true, y_pred, squared=False)"
   ]
  },
  {
   "cell_type": "markdown",
   "metadata": {},
   "source": [
    "### Definição das Pipelines de Pré-processamento"
   ]
  },
  {
   "cell_type": "code",
   "execution_count": 167,
   "metadata": {},
   "outputs": [],
   "source": [
    "# Pipeline para variáveis numéricas\n",
    "numerical_pipeline = Pipeline(steps=[\n",
    "    ('imputer', SimpleImputer(strategy='mean')),\n",
    "    ('scaler', StandardScaler())\n",
    "])\n",
    "\n",
    "# Pipeline para variáveis categóricas\n",
    "categorical_pipeline = Pipeline(steps=[\n",
    "    ('imputer', SimpleImputer(strategy='most_frequent')),\n",
    "    ('onehot', OneHotEncoder(handle_unknown='ignore'))\n",
    "])\n",
    "\n",
    "# Combinação das pipelines usando ColumnTransformer\n",
    "preprocessor = ColumnTransformer(transformers=[\n",
    "    ('num', numerical_pipeline, numerical_cols),\n",
    "    ('cat', categorical_pipeline, categorical_cols)\n",
    "])"
   ]
  },
  {
   "cell_type": "markdown",
   "metadata": {},
   "source": [
    "### Definição dos Modelos"
   ]
  },
  {
   "cell_type": "code",
   "execution_count": 168,
   "metadata": {},
   "outputs": [],
   "source": [
    "# Definição dos modelos a serem comparados com seus hiperparâmetros\n",
    "models = {\n",
    "    'Linear Regression': {\n",
    "        'model': LinearRegression(),\n",
    "        'params': {}\n",
    "    },\n",
    "    'Ridge Regression': {\n",
    "        'model': Ridge(),\n",
    "        'params': {\n",
    "            'regressor__alpha': [0.1, 1.0, 10.0, 100.0]\n",
    "        }\n",
    "    },\n",
    "    'Lasso Regression': {\n",
    "        'model': Lasso(),\n",
    "        'params': {\n",
    "            'regressor__alpha': [0.01, 0.1, 1.0, 10.0]\n",
    "        }\n",
    "    },\n",
    "    'Random Forest': {\n",
    "        'model': RandomForestRegressor(),\n",
    "        'params': {\n",
    "            'regressor__n_estimators': [100, 200],\n",
    "            'regressor__max_depth': [None, 10, 20],\n",
    "            'regressor__min_samples_split': [2, 5],\n",
    "            'regressor__min_samples_leaf': [1, 2]\n",
    "        }\n",
    "    }\n",
    "}"
   ]
  },
  {
   "cell_type": "markdown",
   "metadata": {},
   "source": [
    "### Criação das Pipelines de Modelos"
   ]
  },
  {
   "cell_type": "code",
   "execution_count": 169,
   "metadata": {},
   "outputs": [],
   "source": [
    "# Criação das pipelines e configuração do GridSearchCV\n",
    "pipelines = {}\n",
    "grid_searches = {}\n",
    "for name, config in models.items():\n",
    "    # Pipeline para cada modelo\n",
    "    pipeline = Pipeline(steps=[\n",
    "        ('preprocessor', preprocessor),\n",
    "        ('regressor', config['model'])\n",
    "    ])\n",
    "    \n",
    "    # GridSearchCV para otimização de hiperparâmetros\n",
    "    grid_search = GridSearchCV(\n",
    "        estimator=pipeline,\n",
    "        param_grid=config['params'],\n",
    "        cv=5,\n",
    "        scoring='neg_mean_squared_error',\n",
    "        n_jobs=-1,\n",
    "        verbose=1\n",
    "    )\n",
    "    \n",
    "    pipelines[name] = grid_search"
   ]
  },
  {
   "cell_type": "markdown",
   "metadata": {},
   "source": [
    "### Treinamento dos Modelos"
   ]
  },
  {
   "cell_type": "code",
   "execution_count": null,
   "metadata": {},
   "outputs": [
    {
     "name": "stdout",
     "output_type": "stream",
     "text": [
      "Iniciando treinamento do modelo: Linear Regression\n",
      "Fitting 5 folds for each of 1 candidates, totalling 5 fits\n",
      "Linear Regression treinado com sucesso.\n",
      "Iniciando treinamento do modelo: Ridge Regression\n",
      "Fitting 5 folds for each of 4 candidates, totalling 20 fits\n",
      "Ridge Regression treinado com sucesso.\n",
      "Iniciando treinamento do modelo: Lasso Regression\n",
      "Fitting 5 folds for each of 4 candidates, totalling 20 fits\n",
      "Lasso Regression treinado com sucesso.\n",
      "Iniciando treinamento do modelo: Random Forest\n",
      "Fitting 5 folds for each of 24 candidates, totalling 120 fits\n"
     ]
    }
   ],
   "source": [
    "# Treinamento de cada modelo com GridSearchCV\n",
    "for name, grid_search in pipelines.items():\n",
    "    try:\n",
    "        print(f\"Iniciando treinamento do modelo: {name}\")\n",
    "        grid_search.fit(X_train, y_train)\n",
    "        print(f\"{name} treinado com sucesso.\")\n",
    "    except Exception as e:\n",
    "        print(f\"Erro ao treinar {name}: {e}\")"
   ]
  },
  {
   "cell_type": "markdown",
   "metadata": {},
   "source": [
    "### Avaliação e Comparação dos Modelos"
   ]
  },
  {
   "cell_type": "code",
   "execution_count": null,
   "metadata": {},
   "outputs": [],
   "source": [
    "# Avaliação dos modelos no conjunto de teste\n",
    "results = []\n",
    "\n",
    "for name, grid_search in pipelines.items():\n",
    "    try:\n",
    "        # Previsões\n",
    "        y_pred = grid_search.predict(X_test)\n",
    "        \n",
    "        # Cálculo das métricas\n",
    "        r2 = r2_score(y_test, y_pred)\n",
    "        rmse = root_mean_squared_error_custom(y_test, y_pred)\n",
    "        mape = mean_absolute_percentage_error_custom(y_test, y_pred)  # Em porcentagem\n",
    "        \n",
    "        # Coleta dos melhores hiperparâmetros\n",
    "        best_params = grid_search.best_params_\n",
    "        \n",
    "        # Armazenamento dos resultados\n",
    "        results.append({\n",
    "            'Modelo': name,\n",
    "            'Melhores Hiperparâmetros': best_params,\n",
    "            'R²': r2,\n",
    "            'RMSE': rmse,\n",
    "            'MAPE (%)': mape\n",
    "        })\n",
    "        \n",
    "        print(f\"{name} avaliado com sucesso.\")\n",
    "    except Exception as e:\n",
    "        print(f\"Erro ao avaliar {name}: {e}\")\n",
    "\n",
    "# Conversão da lista de resultados para DataFrame\n",
    "results_df = pd.DataFrame(results)\n",
    "\n",
    "# Exibição dos resultados ordenados por MAPE\n",
    "print(results_df.sort_values(by='MAPE (%)'))"
   ]
  },
  {
   "cell_type": "markdown",
   "metadata": {},
   "source": [
    "### Visualização dos Resultados"
   ]
  },
  {
   "cell_type": "code",
   "execution_count": null,
   "metadata": {},
   "outputs": [],
   "source": [
    "# Configuração do estilo dos gráficos\n",
    "sns.set(style=\"whitegrid\")\n",
    "\n",
    "# Gráfico de barras para RMSE\n",
    "plt.figure(figsize=(10,6))\n",
    "sns.barplot(x='RMSE', y='Modelo', data=results_df.sort_values('RMSE', ascending=True), palette='viridis')\n",
    "plt.title('Desempenho dos Modelos - RMSE')\n",
    "plt.xlabel('RMSE')\n",
    "plt.ylabel('Modelo')\n",
    "plt.show()\n",
    "\n",
    "# Gráfico de barras para MAPE\n",
    "plt.figure(figsize=(10,6))\n",
    "sns.barplot(x='MAPE (%)', y='Modelo', data=results_df.sort_values('MAPE (%)', ascending=True), palette='magma')\n",
    "plt.title('Desempenho dos Modelos - MAPE (%)')\n",
    "plt.xlabel('MAPE (%)')\n",
    "plt.ylabel('Modelo')\n",
    "plt.show()"
   ]
  },
  {
   "cell_type": "markdown",
   "metadata": {},
   "source": []
  },
  {
   "cell_type": "code",
   "execution_count": null,
   "metadata": {},
   "outputs": [],
   "source": [
    "# Identificação do modelo com menor MAPE\n",
    "best_model = results_df.loc[results_df['MAPE (%)'].idxmin()]\n",
    "\n",
    "print(\"Modelo com menor erro percentual (MAPE):\")\n",
    "print(best_model)"
   ]
  },
  {
   "cell_type": "markdown",
   "metadata": {},
   "source": [
    "### Considerações Finais"
   ]
  },
  {
   "cell_type": "code",
   "execution_count": null,
   "metadata": {},
   "outputs": [],
   "source": [
    "# Exibição dos resultados de forma mais detalhada\n",
    "display(results_df.sort_values(by='MAPE (%)', ascending=True))"
   ]
  }
 ],
 "metadata": {
  "kernelspec": {
   "display_name": "Python 3",
   "language": "python",
   "name": "python3"
  },
  "language_info": {
   "codemirror_mode": {
    "name": "ipython",
    "version": 3
   },
   "file_extension": ".py",
   "mimetype": "text/x-python",
   "name": "python",
   "nbconvert_exporter": "python",
   "pygments_lexer": "ipython3",
   "version": "3.13.0"
  }
 },
 "nbformat": 4,
 "nbformat_minor": 2
}
