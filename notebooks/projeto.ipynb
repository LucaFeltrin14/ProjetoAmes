{
 "cells": [
  {
   "cell_type": "markdown",
   "metadata": {},
   "source": [
    "# Projeto: Previsão de Preços de Imóveis em Ames"
   ]
  },
  {
   "cell_type": "markdown",
   "metadata": {},
   "source": [
    "### Importação das Bibliotecas Necessárias"
   ]
  },
  {
   "cell_type": "code",
   "execution_count": null,
   "metadata": {},
   "outputs": [],
   "source": [
    "# Importação das bibliotecas essenciais\n",
    "import pickle\n",
    "import pandas as pd\n",
    "from pathlib import Path\n",
    "\n",
    "# Importação das bibliotecas de pré-processamento e modelagem\n",
    "from sklearn.model_selection import train_test_split, GridSearchCV\n",
    "from sklearn.pipeline import Pipeline\n",
    "from sklearn.compose import ColumnTransformer\n",
    "from sklearn.impute import SimpleImputer\n",
    "from sklearn.preprocessing import OneHotEncoder, StandardScaler\n",
    "\n",
    "# Importação dos modelos de regressão\n",
    "from sklearn.linear_model import LinearRegression, Ridge, Lasso\n",
    "from sklearn.ensemble import RandomForestRegressor\n",
    "\n",
    "# Importação das métricas de avaliação\n",
    "from sklearn.metrics import mean_squared_error, r2_score\n",
    "\n",
    "# Importação para visualização dos resultados\n",
    "import matplotlib.pyplot as plt\n",
    "import seaborn as sns"
   ]
  },
  {
   "cell_type": "markdown",
   "metadata": {},
   "source": [
    "### Carregamento dos Dados Processados"
   ]
  },
  {
   "cell_type": "code",
   "execution_count": null,
   "metadata": {},
   "outputs": [],
   "source": [
    "# Definição do caminho para o arquivo processado\n",
    "DATA_DIR = Path.cwd().parent / 'data'\n",
    "processed_file_path = DATA_DIR / 'processed' / 'ames_clean.pkl'\n",
    "\n",
    "# Carregamento dos dados processados\n",
    "with open(processed_file_path, 'rb') as file:\n",
    "    data = pickle.load(file)"
   ]
  },
  {
   "cell_type": "markdown",
   "metadata": {},
   "source": [
    "### Divisão dos Dados em Conjuntos de Treinamento e Teste"
   ]
  },
  {
   "cell_type": "code",
   "execution_count": 163,
   "metadata": {},
   "outputs": [],
   "source": [
    "# Definição da variável alvo\n",
    "y = data['SalePrice']\n",
    "\n",
    "# Definição das variáveis preditoras\n",
    "X = data.drop('SalePrice', axis=1)\n",
    "\n",
    "# Divisão dos dados em treinamento e teste (80% treino, 20% teste)\n",
    "X_train, X_test, y_train, y_test = train_test_split(\n",
    "    X, y, test_size=0.2, random_state=42\n",
    ")"
   ]
  },
  {
   "cell_type": "markdown",
   "metadata": {},
   "source": [
    "### Identificação das Colunas Categóricas e Numéricas"
   ]
  },
  {
   "cell_type": "code",
   "execution_count": 164,
   "metadata": {},
   "outputs": [
    {
     "name": "stdout",
     "output_type": "stream",
     "text": [
      "Colunas Categóricas: ['MS.SubClass', 'MS.Zoning', 'Lot.Shape', 'Land.Contour', 'Lot.Config', 'Land.Slope', 'Neighborhood', 'Bldg.Type', 'House.Style', 'Overall.Qual', 'Overall.Cond', 'Roof.Style', 'Mas.Vnr.Type', 'Exter.Qual', 'Exter.Cond', 'Foundation', 'Bsmt.Qual', 'Bsmt.Cond', 'Bsmt.Exposure', 'BsmtFin.Type.1', 'BsmtFin.Type.2', 'Heating.QC', 'Central.Air', 'Electrical', 'Kitchen.Qual', 'Functional', 'Garage.Type', 'Garage.Finish', 'Paved.Drive', 'Fence', 'Sale.Type', 'Sale.Condition', 'Condition', 'Exterior']\n",
      "Colunas Numéricas: ['Lot.Frontage', 'Lot.Area', 'Mas.Vnr.Area', 'BsmtFin.SF.1', 'BsmtFin.SF.2', 'Bsmt.Unf.SF', 'Total.Bsmt.SF', 'X1st.Flr.SF', 'X2nd.Flr.SF', 'Low.Qual.Fin.SF', 'Gr.Liv.Area', 'Bsmt.Full.Bath', 'Bsmt.Half.Bath', 'Full.Bath', 'Half.Bath', 'Bedroom.AbvGr', 'Kitchen.AbvGr', 'TotRms.AbvGrd', 'Fireplaces', 'Garage.Cars', 'Garage.Area', 'Wood.Deck.SF', 'Open.Porch.SF', 'Enclosed.Porch', 'X3Ssn.Porch', 'Screen.Porch', 'Pool.Area', 'Misc.Val', 'Mo.Sold', 'Yr.Sold', 'Garage.Age', 'Remod.Age', 'House.Age']\n"
     ]
    }
   ],
   "source": [
    "# Identificação das colunas categóricas e numéricas\n",
    "categorical_cols = X.select_dtypes(include=['object', 'category']).columns.tolist()\n",
    "numerical_cols = X.select_dtypes(include=['int64', 'float64']).columns.tolist()\n",
    "\n",
    "print(f\"Colunas Categóricas: {categorical_cols}\")\n",
    "print(f\"Colunas Numéricas: {numerical_cols}\")"
   ]
  },
  {
   "cell_type": "markdown",
   "metadata": {},
   "source": [
    "### Conversão das Colunas Categóricas para Strings"
   ]
  },
  {
   "cell_type": "code",
   "execution_count": 165,
   "metadata": {},
   "outputs": [
    {
     "name": "stdout",
     "output_type": "stream",
     "text": [
      "MS.SubClass       object\n",
      "MS.Zoning         object\n",
      "Lot.Shape         object\n",
      "Land.Contour      object\n",
      "Lot.Config        object\n",
      "Land.Slope        object\n",
      "Neighborhood      object\n",
      "Bldg.Type         object\n",
      "House.Style       object\n",
      "Overall.Qual      object\n",
      "Overall.Cond      object\n",
      "Roof.Style        object\n",
      "Mas.Vnr.Type      object\n",
      "Exter.Qual        object\n",
      "Exter.Cond        object\n",
      "Foundation        object\n",
      "Bsmt.Qual         object\n",
      "Bsmt.Cond         object\n",
      "Bsmt.Exposure     object\n",
      "BsmtFin.Type.1    object\n",
      "BsmtFin.Type.2    object\n",
      "Heating.QC        object\n",
      "Central.Air       object\n",
      "Electrical        object\n",
      "Kitchen.Qual      object\n",
      "Functional        object\n",
      "Garage.Type       object\n",
      "Garage.Finish     object\n",
      "Paved.Drive       object\n",
      "Fence             object\n",
      "Sale.Type         object\n",
      "Sale.Condition    object\n",
      "Condition         object\n",
      "Exterior          object\n",
      "dtype: object\n",
      "MS.SubClass       object\n",
      "MS.Zoning         object\n",
      "Lot.Shape         object\n",
      "Land.Contour      object\n",
      "Lot.Config        object\n",
      "Land.Slope        object\n",
      "Neighborhood      object\n",
      "Bldg.Type         object\n",
      "House.Style       object\n",
      "Overall.Qual      object\n",
      "Overall.Cond      object\n",
      "Roof.Style        object\n",
      "Mas.Vnr.Type      object\n",
      "Exter.Qual        object\n",
      "Exter.Cond        object\n",
      "Foundation        object\n",
      "Bsmt.Qual         object\n",
      "Bsmt.Cond         object\n",
      "Bsmt.Exposure     object\n",
      "BsmtFin.Type.1    object\n",
      "BsmtFin.Type.2    object\n",
      "Heating.QC        object\n",
      "Central.Air       object\n",
      "Electrical        object\n",
      "Kitchen.Qual      object\n",
      "Functional        object\n",
      "Garage.Type       object\n",
      "Garage.Finish     object\n",
      "Paved.Drive       object\n",
      "Fence             object\n",
      "Sale.Type         object\n",
      "Sale.Condition    object\n",
      "Condition         object\n",
      "Exterior          object\n",
      "dtype: object\n"
     ]
    }
   ],
   "source": [
    "# Converter todas as colunas categóricas para string para evitar erros no encoder\n",
    "X_train[categorical_cols] = X_train[categorical_cols].astype(str)\n",
    "X_test[categorical_cols] = X_test[categorical_cols].astype(str)\n",
    "\n",
    "# Verificação para garantir que a conversão foi bem-sucedida\n",
    "print(X_train[categorical_cols].dtypes)\n",
    "print(X_test[categorical_cols].dtypes)"
   ]
  },
  {
   "cell_type": "markdown",
   "metadata": {},
   "source": []
  },
  {
   "cell_type": "code",
   "execution_count": null,
   "metadata": {},
   "outputs": [],
   "source": [
    "def percentage_error(y_true, y_pred):\n",
    "    \"\"\"Calcula o Erro Percentual Absoluto Médio (PEA).\n",
    "\n",
    "    Args:\n",
    "        y_true (array-like): Valores reais.\n",
    "        y_pred (array-like): Valores previstos.\n",
    "\n",
    "    Returns:\n",
    "        float: PEA em porcentagem.\n",
    "    \"\"\"\n",
    "    y_true, y_pred = pd.Series(y_true), pd.Series(y_pred)\n",
    "    # Evitar divisão por zero substituindo zeros por um pequeno valor\n",
    "    y_true = y_true.replace(0, 1e-10)\n",
    "    return (abs((y_true - y_pred) / y_true).mean()) * 100"
   ]
  },
  {
   "cell_type": "markdown",
   "metadata": {},
   "source": [
    "### Definição das Pipelines de Pré-processamento"
   ]
  },
  {
   "cell_type": "code",
   "execution_count": null,
   "metadata": {},
   "outputs": [],
   "source": [
    "# Pipeline para variáveis numéricas\n",
    "numerical_pipeline = Pipeline(steps=[\n",
    "    ('imputer', SimpleImputer(strategy='mean')),\n",
    "    ('scaler', StandardScaler())\n",
    "])\n",
    "\n",
    "# Pipeline para variáveis categóricas\n",
    "categorical_pipeline = Pipeline(steps=[\n",
    "    ('imputer', SimpleImputer(strategy='most_frequent')),\n",
    "    ('onehot', OneHotEncoder(handle_unknown='ignore'))\n",
    "])\n",
    "\n",
    "# Combinação das pipelines usando ColumnTransformer\n",
    "preprocessor = ColumnTransformer(transformers=[\n",
    "    ('num', numerical_pipeline, numerical_cols),\n",
    "    ('cat', categorical_pipeline, categorical_cols)\n",
    "])"
   ]
  },
  {
   "cell_type": "markdown",
   "metadata": {},
   "source": [
    "### Definição dos Modelos"
   ]
  },
  {
   "cell_type": "code",
   "execution_count": null,
   "metadata": {},
   "outputs": [],
   "source": [
    "# Definição dos modelos a serem comparados com seus hiperparâmetros\n",
    "models = {\n",
    "    'Linear Regression': {\n",
    "        'model': LinearRegression(),\n",
    "        'params': {}\n",
    "    },\n",
    "    'Ridge Regression': {\n",
    "        'model': Ridge(),\n",
    "        'params': {\n",
    "            'regressor__alpha': [0.1, 1.0, 10.0, 100.0]\n",
    "        }\n",
    "    },\n",
    "    'Lasso Regression': {\n",
    "        'model': Lasso(),\n",
    "        'params': {\n",
    "            'regressor__alpha': [0.01, 0.1, 1.0, 10.0]\n",
    "        }\n",
    "    },\n",
    "    'Random Forest': {\n",
    "        'model': RandomForestRegressor(),\n",
    "        'params': {\n",
    "            'regressor__n_estimators': [100, 200],\n",
    "            'regressor__max_depth': [None, 10, 20],\n",
    "            'regressor__min_samples_split': [2, 5],\n",
    "            'regressor__min_samples_leaf': [1, 2]\n",
    "        }\n",
    "    }\n",
    "}"
   ]
  },
  {
   "cell_type": "markdown",
   "metadata": {},
   "source": [
    "### Criação das Pipelines de Modelos"
   ]
  },
  {
   "cell_type": "code",
   "execution_count": null,
   "metadata": {},
   "outputs": [],
   "source": [
    "# Criação das pipelines e configuração do GridSearchCV\n",
    "pipelines = {}\n",
    "for name, config in models.items():\n",
    "    # Pipeline para cada modelo\n",
    "    pipeline = Pipeline(steps=[\n",
    "        ('preprocessor', preprocessor),\n",
    "        ('regressor', config['model'])\n",
    "    ])\n",
    "    \n",
    "    # GridSearchCV para otimização de hiperparâmetros\n",
    "    grid_search = GridSearchCV(\n",
    "        estimator=pipeline,\n",
    "        param_grid=config['params'],\n",
    "        cv=5,\n",
    "        scoring='neg_mean_squared_error',\n",
    "        n_jobs=-1,\n",
    "        verbose=1\n",
    "    )\n",
    "    \n",
    "    pipelines[name] = grid_search"
   ]
  },
  {
   "cell_type": "markdown",
   "metadata": {},
   "source": [
    "### Treinamento dos Modelos"
   ]
  },
  {
   "cell_type": "code",
   "execution_count": null,
   "metadata": {},
   "outputs": [
    {
     "name": "stdout",
     "output_type": "stream",
     "text": [
      "Iniciando treinamento do modelo: Linear Regression\n",
      "Fitting 5 folds for each of 1 candidates, totalling 5 fits\n",
      "Linear Regression treinado com sucesso.\n",
      "Iniciando treinamento do modelo: Ridge Regression\n",
      "Fitting 5 folds for each of 4 candidates, totalling 20 fits\n",
      "Ridge Regression treinado com sucesso.\n",
      "Iniciando treinamento do modelo: Lasso Regression\n",
      "Fitting 5 folds for each of 4 candidates, totalling 20 fits\n",
      "Lasso Regression treinado com sucesso.\n",
      "Iniciando treinamento do modelo: Random Forest\n",
      "Fitting 5 folds for each of 24 candidates, totalling 120 fits\n",
      "Random Forest treinado com sucesso.\n"
     ]
    }
   ],
   "source": [
    "# Treinamento de cada modelo com GridSearchCV\n",
    "for name, grid_search in pipelines.items():\n",
    "    try:\n",
    "        print(f\"Iniciando treinamento do modelo: {name}\")\n",
    "        grid_search.fit(X_train, y_train)\n",
    "        print(f\"{name} treinado com sucesso.\\n\")\n",
    "    except Exception as e:\n",
    "        print(f\"Erro ao treinar {name}: {e}\\n\")"
   ]
  },
  {
   "cell_type": "markdown",
   "metadata": {},
   "source": [
    "### Avaliação e Comparação dos Modelos"
   ]
  },
  {
   "cell_type": "code",
   "execution_count": null,
   "metadata": {},
   "outputs": [
    {
     "name": "stdout",
     "output_type": "stream",
     "text": [
      "Linear Regression avaliado com sucesso.\n",
      "Ridge Regression avaliado com sucesso.\n",
      "Lasso Regression avaliado com sucesso.\n",
      "Random Forest avaliado com sucesso.\n",
      "              Modelo                           Melhores Hiperparâmetros  \\\n",
      "2   Lasso Regression                         {'regressor__alpha': 0.01}   \n",
      "3      Random Forest  {'regressor__max_depth': None, 'regressor__min...   \n",
      "1   Ridge Regression                          {'regressor__alpha': 1.0}   \n",
      "0  Linear Regression                                                 {}   \n",
      "\n",
      "         R²      RMSE  MAPE (%)  \n",
      "2  0.772645  0.081932  3.743629  \n",
      "3  0.886171  0.057974  3.948765  \n",
      "1  0.884028  0.058517  4.110073  \n",
      "0  0.880802  0.059325  4.116497  \n"
     ]
    },
    {
     "name": "stderr",
     "output_type": "stream",
     "text": [
      "c:\\Users\\gabri\\AppData\\Local\\Programs\\Python\\Python313\\Lib\\site-packages\\sklearn\\metrics\\_regression.py:492: FutureWarning: 'squared' is deprecated in version 1.4 and will be removed in 1.6. To calculate the root mean squared error, use the function'root_mean_squared_error'.\n",
      "  warnings.warn(\n",
      "c:\\Users\\gabri\\AppData\\Local\\Programs\\Python\\Python313\\Lib\\site-packages\\sklearn\\metrics\\_regression.py:492: FutureWarning: 'squared' is deprecated in version 1.4 and will be removed in 1.6. To calculate the root mean squared error, use the function'root_mean_squared_error'.\n",
      "  warnings.warn(\n",
      "c:\\Users\\gabri\\AppData\\Local\\Programs\\Python\\Python313\\Lib\\site-packages\\sklearn\\metrics\\_regression.py:492: FutureWarning: 'squared' is deprecated in version 1.4 and will be removed in 1.6. To calculate the root mean squared error, use the function'root_mean_squared_error'.\n",
      "  warnings.warn(\n",
      "c:\\Users\\gabri\\AppData\\Local\\Programs\\Python\\Python313\\Lib\\site-packages\\sklearn\\metrics\\_regression.py:492: FutureWarning: 'squared' is deprecated in version 1.4 and will be removed in 1.6. To calculate the root mean squared error, use the function'root_mean_squared_error'.\n",
      "  warnings.warn(\n"
     ]
    }
   ],
   "source": [
    "# Avaliação dos modelos no conjunto de teste\n",
    "results = []\n",
    "\n",
    "for name, grid_search in pipelines.items():\n",
    "    try:\n",
    "        # Previsões\n",
    "        y_pred = grid_search.predict(X_test)\n",
    "        \n",
    "        # Cálculo das métricas\n",
    "        r2 = r2_score(y_test, y_pred)\n",
    "        rmse = mean_squared_error(y_test, y_pred, squared=False)\n",
    "        percent_error = percentage_error(y_test, y_pred)\n",
    "        \n",
    "        # Coleta dos melhores hiperparâmetros\n",
    "        best_params = grid_search.best_params_\n",
    "        \n",
    "        # Armazenamento dos resultados\n",
    "        results.append({\n",
    "            'Modelo': name,\n",
    "            'Melhores Hiperparâmetros': best_params,\n",
    "            'R²': r2,\n",
    "            'RMSE': rmse,\n",
    "            'Erro Percentual (%)': round(percent_error, 2)\n",
    "        })\n",
    "        \n",
    "        print(f\"{name} avaliado com sucesso.\")\n",
    "    except Exception as e:\n",
    "        print(f\"Erro ao avaliar {name}: {e}\")\n",
    "\n",
    "# Conversão da lista de resultados para DataFrame\n",
    "results_df = pd.DataFrame(results)\n",
    "\n",
    "# Exibição dos resultados ordenados por Erro Percentual\n",
    "print(results_df.sort_values(by='Erro Percentual (%)'))"
   ]
  },
  {
   "cell_type": "markdown",
   "metadata": {},
   "source": [
    "### Visualização dos Resultados"
   ]
  },
  {
   "cell_type": "code",
   "execution_count": null,
   "metadata": {},
   "outputs": [
    {
     "name": "stderr",
     "output_type": "stream",
     "text": [
      "C:\\Users\\gabri\\AppData\\Local\\Temp\\ipykernel_16176\\4040038594.py:6: FutureWarning: \n",
      "\n",
      "Passing `palette` without assigning `hue` is deprecated and will be removed in v0.14.0. Assign the `y` variable to `hue` and set `legend=False` for the same effect.\n",
      "\n",
      "  sns.barplot(x='RMSE', y='Modelo', data=results_df.sort_values('RMSE', ascending=True), palette='viridis')\n"
     ]
    },
    {
     "data": {
      "image/png": "[encoded data removed]",
      "text/plain": [
       "<Figure size 1000x600 with 1 Axes>"
      ]
     },
     "metadata": {},
     "output_type": "display_data"
    },
    {
     "name": "stderr",
     "output_type": "stream",
     "text": [
      "C:\\Users\\gabri\\AppData\\Local\\Temp\\ipykernel_16176\\4040038594.py:14: FutureWarning: \n",
      "\n",
      "Passing `palette` without assigning `hue` is deprecated and will be removed in v0.14.0. Assign the `y` variable to `hue` and set `legend=False` for the same effect.\n",
      "\n",
      "  sns.barplot(x='MAPE (%)', y='Modelo', data=results_df.sort_values('MAPE (%)', ascending=True), palette='magma')\n"
     ]
    },
    {
     "data": {
      "image/png": "[encoded data removed]",
      "text/plain": [
       "<Figure size 1000x600 with 1 Axes>"
      ]
     },
     "metadata": {},
     "output_type": "display_data"
    }
   ],
   "source": [
    "# Configuração do estilo dos gráficos\n",
    "sns.set_theme(style=\"whitegrid\")\n",
    "\n",
    "# Gráfico de barras para RMSE\n",
    "plt.figure(figsize=(10,6))\n",
    "sns.barplot(x='RMSE', y='Modelo', data=results_df.sort_values('RMSE', ascending=True), palette='viridis')\n",
    "plt.title('Desempenho dos Modelos - RMSE')\n",
    "plt.xlabel('RMSE')\n",
    "plt.ylabel('Modelo')\n",
    "plt.show()\n",
    "\n",
    "# Gráfico de barras para Erro Percentual\n",
    "plt.figure(figsize=(10,6))\n",
    "sns.barplot(x='Erro Percentual (%)', y='Modelo', data=results_df.sort_values('Erro Percentual (%)', ascending=True), palette='magma')\n",
    "plt.title('Desempenho dos Modelos - Erro Percentual (%)')\n",
    "plt.xlabel('Erro Percentual (%)')\n",
    "plt.ylabel('Modelo')\n",
    "plt.show()"
   ]
  },
  {
   "cell_type": "markdown",
   "metadata": {},
   "source": []
  },
  {
   "cell_type": "code",
   "execution_count": null,
   "metadata": {},
   "outputs": [
    {
     "name": "stdout",
     "output_type": "stream",
     "text": [
      "Modelo com menor erro percentual (MAPE):\n",
      "Modelo                                Lasso Regression\n",
      "Melhores Hiperparâmetros    {'regressor__alpha': 0.01}\n",
      "R²                                            0.772645\n",
      "RMSE                                          0.081932\n",
      "MAPE (%)                                      3.743629\n",
      "Name: 2, dtype: object\n"
     ]
    }
   ],
   "source": [
    "# Identificação do modelo com menor Erro Percentual\n",
    "best_model = results_df.loc[results_df['Erro Percentual (%)'].idxmin()]\n",
    "\n",
    "print(\"Modelo com menor erro percentual (Erro Percentual):\")\n",
    "print(f\"Modelo: {best_model['Modelo']}\")\n",
    "print(f\"Melhores Hiperparâmetros: {best_model['Melhores Hiperparâmetros']}\")\n",
    "print(f\"R²: {best_model['R²']:.4f}\")\n",
    "print(f\"RMSE: {best_model['RMSE']:.2f}\")\n",
    "print(f\"Erro Percentual: {best_model['Erro Percentual (%)']}%\")"
   ]
  },
  {
   "cell_type": "markdown",
   "metadata": {},
   "source": [
    "### Considerações Finais"
   ]
  },
  {
   "cell_type": "code",
   "execution_count": null,
   "metadata": {},
   "outputs": [
    {
     "data": {
      "text/html": [
       "<div>\n",
       "<style scoped>\n",
       "    .dataframe tbody tr th:only-of-type {\n",
       "        vertical-align: middle;\n",
       "    }\n",
       "\n",
       "    .dataframe tbody tr th {\n",
       "        vertical-align: top;\n",
       "    }\n",
       "\n",
       "    .dataframe thead th {\n",
       "        text-align: right;\n",
       "    }\n",
       "</style>\n",
       "<table border=\"1\" class=\"dataframe\">\n",
       "  <thead>\n",
       "    <tr style=\"text-align: right;\">\n",
       "      <th></th>\n",
       "      <th>Modelo</th>\n",
       "      <th>Melhores Hiperparâmetros</th>\n",
       "      <th>R²</th>\n",
       "      <th>RMSE</th>\n",
       "      <th>MAPE (%)</th>\n",
       "    </tr>\n",
       "  </thead>\n",
       "  <tbody>\n",
       "    <tr>\n",
       "      <th>2</th>\n",
       "      <td>Lasso Regression</td>\n",
       "      <td>{'regressor__alpha': 0.01}</td>\n",
       "      <td>0.772645</td>\n",
       "      <td>0.081932</td>\n",
       "      <td>3.743629</td>\n",
       "    </tr>\n",
       "    <tr>\n",
       "      <th>3</th>\n",
       "      <td>Random Forest</td>\n",
       "      <td>{'regressor__max_depth': None, 'regressor__min...</td>\n",
       "      <td>0.886171</td>\n",
       "      <td>0.057974</td>\n",
       "      <td>3.948765</td>\n",
       "    </tr>\n",
       "    <tr>\n",
       "      <th>1</th>\n",
       "      <td>Ridge Regression</td>\n",
       "      <td>{'regressor__alpha': 1.0}</td>\n",
       "      <td>0.884028</td>\n",
       "      <td>0.058517</td>\n",
       "      <td>4.110073</td>\n",
       "    </tr>\n",
       "    <tr>\n",
       "      <th>0</th>\n",
       "      <td>Linear Regression</td>\n",
       "      <td>{}</td>\n",
       "      <td>0.880802</td>\n",
       "      <td>0.059325</td>\n",
       "      <td>4.116497</td>\n",
       "    </tr>\n",
       "  </tbody>\n",
       "</table>\n",
       "</div>"
      ],
      "text/plain": [
       "              Modelo                           Melhores Hiperparâmetros  \\\n",
       "2   Lasso Regression                         {'regressor__alpha': 0.01}   \n",
       "3      Random Forest  {'regressor__max_depth': None, 'regressor__min...   \n",
       "1   Ridge Regression                          {'regressor__alpha': 1.0}   \n",
       "0  Linear Regression                                                 {}   \n",
       "\n",
       "         R²      RMSE  MAPE (%)  \n",
       "2  0.772645  0.081932  3.743629  \n",
       "3  0.886171  0.057974  3.948765  \n",
       "1  0.884028  0.058517  4.110073  \n",
       "0  0.880802  0.059325  4.116497  "
      ]
     },
     "metadata": {},
     "output_type": "display_data"
    }
   ],
   "source": [
    "# Exibição dos resultados de forma mais detalhada\n",
    "display(results_df.sort_values(by='Erro Percentual (%)', ascending=True))"
   ]
  }
 ],
 "metadata": {
  "kernelspec": {
   "display_name": "Python 3",
   "language": "python",
   "name": "python3"
  },
  "language_info": {
   "codemirror_mode": {
    "name": "ipython",
    "version": 3
   },
   "file_extension": ".py",
   "mimetype": "text/x-python",
   "name": "python",
   "nbconvert_exporter": "python",
   "pygments_lexer": "ipython3",
   "version": "3.13.0"
  }
 },
 "nbformat": 4,
 "nbformat_minor": 2
}
